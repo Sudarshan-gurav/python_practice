{
 "cells": [
  {
   "cell_type": "markdown",
   "metadata": {},
   "source": [
    "# SET"
   ]
  },
  {
   "cell_type": "code",
   "execution_count": null,
   "metadata": {},
   "outputs": [],
   "source": []
  },
  {
   "cell_type": "markdown",
   "metadata": {},
   "source": [
    "16318\n",
    "###### 1.mutable \n",
    "###### 2. insrtion order is not preserved\n",
    "###### 3. duplicate are not allow\n",
    "###### 4.Hetrogeneous are allowd\n",
    "###### 5. Their no indexing and slicing   "
   ]
  },
  {
   "cell_type": "code",
   "execution_count": 7,
   "metadata": {},
   "outputs": [],
   "source": [
    "# hashbased (hashset in java)\n",
    "s ={10,20,3,30,40,5}\n",
    "#print(s[0:2]) # not allow\n",
    "#print(s[0])  # not allow\n",
    "\n"
   ]
  },
  {
   "cell_type": "code",
   "execution_count": 9,
   "metadata": {},
   "outputs": [
    {
     "name": "stdout",
     "output_type": "stream",
     "text": [
      "{'n', 'r', 'd', 's', 'u', 'h', 'a'}\n",
      "{1, 2, 3, 4, 5}\n"
     ]
    }
   ],
   "source": [
    "\n",
    "s=set('sudarshan')\n",
    "print(s)\n",
    "\n",
    "s=set(range(1,6))\n",
    "print(s)"
   ]
  },
  {
   "cell_type": "code",
   "execution_count": 20,
   "metadata": {},
   "outputs": [
    {
     "name": "stdout",
     "output_type": "stream",
     "text": [
      "{40, 10, 20, 60, 30}\n"
     ]
    }
   ],
   "source": [
    "# converting list into set\n",
    "\n",
    "l =[10,20,30,40,60]\n",
    "s = set(l)\n",
    "print(s)"
   ]
  },
  {
   "cell_type": "code",
   "execution_count": 18,
   "metadata": {},
   "outputs": [
    {
     "data": {
      "text/plain": [
       "dict"
      ]
     },
     "execution_count": 18,
     "metadata": {},
     "output_type": "execute_result"
    }
   ],
   "source": [
    "# empty set object\n",
    "s1={}   # it treated as dictionary\n",
    "s =set() # it is empty set (compulsory we use set function )\n",
    "\n",
    "type(s1)\n",
    "type(s)"
   ]
  },
  {
   "cell_type": "code",
   "execution_count": 22,
   "metadata": {},
   "outputs": [
    {
     "name": "stdout",
     "output_type": "stream",
     "text": [
      "{40, 10, 20, 60, 30}\n"
     ]
    }
   ],
   "source": [
    "# converting list into set \n",
    "\n",
    "l =[10,20,30,40,60,20,10,40] # duplicates in list\n",
    "s = set(l)  # convert into set\n",
    "print(s)    # duplicate are removed"
   ]
  },
  {
   "cell_type": "code",
   "execution_count": 24,
   "metadata": {},
   "outputs": [
    {
     "name": "stdout",
     "output_type": "stream",
     "text": [
      "{'d', 'c', 'b', 'a'}\n"
     ]
    }
   ],
   "source": [
    "string = 'aaaaaabbbbbcccccddddd'\n",
    "s = set(string)\n",
    "print(s)  # {'d', 'c', 'b', 'a'}\n"
   ]
  },
  {
   "cell_type": "code",
   "execution_count": 25,
   "metadata": {},
   "outputs": [
    {
     "name": "stdout",
     "output_type": "stream",
     "text": [
      "{40, 10, 20, 30}\n"
     ]
    }
   ],
   "source": [
    "s= set()\n",
    "s.add(10)\n",
    "s.add(20)\n",
    "s.add(30)\n",
    "s.add(40)\n",
    "print(s)\n"
   ]
  },
  {
   "cell_type": "code",
   "execution_count": 38,
   "metadata": {},
   "outputs": [
    {
     "name": "stdout",
     "output_type": "stream",
     "text": [
      "{70, 40, 10, 50, 20, 60, 30}\n",
      "{'c', 70, 40, 10, 'r', 'e', 50, 'd', 20, 'b', 's', 60, 'h', 30, 'a'}\n"
     ]
    }
   ],
   "source": [
    "s = {10,20,30,40}\n",
    "l = [50,60,70]\n",
    "s.update(l) # if we want to add group of element we use update method\n",
    "print(s)        # update the list into set \n",
    "\n",
    "\n",
    "# any type \n",
    "\n",
    "#s.update(10)  # 'int' object is not iterable\n",
    "s.update('shree')    #valid\n",
    "s.update('ab'+'cd')  #valid\n",
    "#s.update(10,20,30)  # not allowed\n",
    "\n",
    "s.update({10,20,30}) # it is valid bcoz it iterable \n",
    "\n",
    "s.update(l,range(1,5),'shree',(10,20,30))  # any type \n",
    "print(s)"
   ]
  },
  {
   "cell_type": "markdown",
   "metadata": {},
   "source": [
    "##### 3.copy()\n"
   ]
  },
  {
   "cell_type": "code",
   "execution_count": 40,
   "metadata": {},
   "outputs": [
    {
     "name": "stdout",
     "output_type": "stream",
     "text": [
      "77748864\n",
      "77748864\n"
     ]
    }
   ],
   "source": [
    "s = {10,20,30}\n",
    "s1 = s       # both references to same object\n",
    "print(id(s)) # asum add 100\n",
    "print(id(s1))# it also same add 100\n"
   ]
  },
  {
   "cell_type": "code",
   "execution_count": 41,
   "metadata": {},
   "outputs": [
    {
     "name": "stdout",
     "output_type": "stream",
     "text": [
      "77748744\n",
      "77749704\n"
     ]
    }
   ],
   "source": [
    "s = {10,20,30}\n",
    "s1 = s.copy()  # separate copy get created\n",
    "print(id(s)) # assum 100\n",
    "print(id(s1))# add is 104\n"
   ]
  },
  {
   "cell_type": "markdown",
   "metadata": {},
   "source": [
    "##### 4.POP()\n",
    " * remove and retrun the element (it is unorder we can't predict which element is remove)\n",
    " * it remove random element(unorder)\n",
    " "
   ]
  },
  {
   "cell_type": "code",
   "execution_count": 15,
   "metadata": {},
   "outputs": [
    {
     "name": "stdout",
     "output_type": "stream",
     "text": [
      "None\n",
      "{40, 10, 20, 30}\n"
     ]
    },
    {
     "data": {
      "text/plain": [
       "set()"
      ]
     },
     "execution_count": 15,
     "metadata": {},
     "output_type": "execute_result"
    }
   ],
   "source": [
    "\n",
    "s ={10,20,30,40}\n",
    "\n",
    "#print(s.remove(130))   # if the element is not present then it will ganarate the error \n",
    "print(s.discard(140))  # if element is not present it will not give the error\n",
    "print(s)\n",
    "\n",
    "s.clear() \n",
    "\n",
    "s # s()"
   ]
  },
  {
   "cell_type": "markdown",
   "metadata": {},
   "source": [
    "mathematical operation we are allow to call \n",
    "\n",
    "1. union()    # "
   ]
  },
  {
   "cell_type": "code",
   "execution_count": 36,
   "metadata": {},
   "outputs": [],
   "source": [
    "s1 = {10,20,30,40,'shree',3.14}\n",
    "s2 = {10,70,50,40,'rama',14.50}   # \n",
    "\n"
   ]
  },
  {
   "cell_type": "code",
   "execution_count": 40,
   "metadata": {},
   "outputs": [],
   "source": [
    "# print(s1.union(s2))\n",
    "# print(s1|s2)       # or symbol(|)\n",
    "\n",
    "# print(s1.intersection(s2))\n",
    "# print(s1&s2)         # and symbol(&)\n",
    "\n",
    "# print(s1.difference(s2))   # the element present in s1 but not in s2 \n",
    "\n",
    "# print(s1.symmetric_difference(s2))\n",
    "# print(s1^s2)   #symantric diffrence (eihter present in s1 and s2 but not in both )(excluding commomn element)\n",
    "\n"
   ]
  },
  {
   "cell_type": "markdown",
   "metadata": {},
   "source": [
    "Memebership opearator :\n"
   ]
  },
  {
   "cell_type": "code",
   "execution_count": 46,
   "metadata": {},
   "outputs": [
    {
     "name": "stdout",
     "output_type": "stream",
     "text": [
      "{'a', 'r', 'u', 's', 'n', 'h', 'd'}\n",
      "True\n",
      "False\n",
      "False\n",
      "True\n"
     ]
    }
   ],
   "source": [
    "# s1= set('sudarshan')\n",
    "# print(s1)\n",
    "# print('h' in s1) \n",
    "# print('z' in s1)\n",
    "\n",
    "# print('a' not in s1)\n",
    "# print('z' not in s1)"
   ]
  },
  {
   "cell_type": "markdown",
   "metadata": {},
   "source": [
    "**List Comprehension**\n",
    "\n",
    "**Set Comprehension**"
   ]
  },
  {
   "cell_type": "code",
   "execution_count": 48,
   "metadata": {},
   "outputs": [
    {
     "name": "stdout",
     "output_type": "stream",
     "text": [
      "{0, 2, 4, 6, 8, 10, 12, 14, 16, 18, 20}\n"
     ]
    }
   ],
   "source": [
    "# s ={ x+x  for x in range(0,11)}\n",
    "# print(s)\n",
    "\n"
   ]
  },
  {
   "cell_type": "markdown",
   "metadata": {},
   "source": [
    "**Write a progrom to eleminate duplicate present in the list**"
   ]
  },
  {
   "cell_type": "code",
   "execution_count": null,
   "metadata": {},
   "outputs": [],
   "source": [
    "#1 way::::\n",
    "\n",
    "# l = eval(input(\"enter list of values:\"))\n",
    "# s=set(l) # automatically duplicate will be removed\n",
    "# print(s)"
   ]
  },
  {
   "cell_type": "code",
   "execution_count": null,
   "metadata": {},
   "outputs": [],
   "source": [
    "# 2 way\n",
    "# l = eval(input(\"enter list of values:\"))\n",
    "# l1=[]\n",
    "# for x in l:\n",
    "#     if x not in l1:\n",
    "#         l1.append(x)\n",
    "#     print(l1)"
   ]
  },
  {
   "cell_type": "code",
   "execution_count": null,
   "metadata": {},
   "outputs": [],
   "source": [
    "l = eval(input(\"enter list of values:\"))\n",
    "\n",
    "s= set(l)\n",
    "v = {'a','e','i','o','u'}\n",
    "d = s.intersection(v)\n",
    "print(\"diff vowel present in the given word:\",d)\n",
    "print(\"the number of diff vowel: \",len(d))"
   ]
  },
  {
   "cell_type": "code",
   "execution_count": null,
   "metadata": {},
   "outputs": [],
   "source": []
  }
 ],
 "metadata": {
  "kernelspec": {
   "display_name": "Python 3",
   "language": "python",
   "name": "python3"
  },
  "language_info": {
   "codemirror_mode": {
    "name": "ipython",
    "version": 3
   },
   "file_extension": ".py",
   "mimetype": "text/x-python",
   "name": "python",
   "nbconvert_exporter": "python",
   "pygments_lexer": "ipython3",
   "version": "3.7.0"
  }
 },
 "nbformat": 4,
 "nbformat_minor": 2
}
