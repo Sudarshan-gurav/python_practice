{
 "cells": [
  {
   "cell_type": "markdown",
   "metadata": {},
   "source": [
    "#  List"
   ]
  },
  {
   "cell_type": "markdown",
   "metadata": {},
   "source": [
    "DUplicate are allow\n",
    "\n",
    "hetrogeneous are allow\n",
    "\n",
    "list are dynamic in natur we can insrease and decreased size as par our requiredment\n",
    "\n",
    "insertion order is maintain\n",
    "\n",
    "python support positive and negative index also\n"
   ]
  },
  {
   "cell_type": "code",
   "execution_count": 5,
   "metadata": {},
   "outputs": [
    {
     "name": "stdout",
     "output_type": "stream",
     "text": [
      "enter list 2 4 5 6 7\n",
      "[2, 4, 5, 6, 7]\n"
     ]
    }
   ],
   "source": [
    "# accessing value in list\n",
    "\n",
    "l =[ eval(x) for x in input(\"enter list \").split()]\n",
    "# for i in l:\n",
    "#     with open('demo.txt','a+') as f:\n",
    "#         i = str(i)+' '\n",
    "#         f.write(i)\n",
    "print(l)"
   ]
  },
  {
   "cell_type": "code",
   "execution_count": 6,
   "metadata": {},
   "outputs": [
    {
     "name": "stdout",
     "output_type": "stream",
     "text": [
      "[2, 4, 5, 6, 7]\n"
     ]
    }
   ],
   "source": [
    "print(l)\n",
    "\n",
    "l1=[ 20,40,50,60]"
   ]
  },
  {
   "cell_type": "code",
   "execution_count": 7,
   "metadata": {},
   "outputs": [
    {
     "name": "stdout",
     "output_type": "stream",
     "text": [
      "[4, 5, 6, 7]\n",
      "[2, 4, 5, 6, 7, [20, 40, 50, 60]]\n"
     ]
    }
   ],
   "source": [
    "print(l[1:6])\n",
    "l.append(l1)  # acess element by using indexing\n",
    "print(l)"
   ]
  },
  {
   "cell_type": "markdown",
   "metadata": {},
   "source": [
    "### Slicing never Give a error\n",
    "\n",
    "[  start : stop : step ] \n"
   ]
  },
  {
   "cell_type": "code",
   "execution_count": 8,
   "metadata": {},
   "outputs": [
    {
     "data": {
      "text/plain": [
       "[2, 4, 5, 6, 7, [20, 40, 50, 60]]"
      ]
     },
     "execution_count": 8,
     "metadata": {},
     "output_type": "execute_result"
    }
   ],
   "source": [
    "# print(l[::-2])  # reverse the list\n",
    "l = l[::]\n",
    "l"
   ]
  },
  {
   "cell_type": "code",
   "execution_count": 14,
   "metadata": {},
   "outputs": [
    {
     "name": "stdout",
     "output_type": "stream",
     "text": [
      "[2, 4, 5, 6, 7, [20, 40, 50, 60]]\n"
     ]
    },
    {
     "data": {
      "text/plain": [
       "60"
      ]
     },
     "execution_count": 14,
     "metadata": {},
     "output_type": "execute_result"
    }
   ],
   "source": [
    "print(l[:])  \n",
    "l[5][3]"
   ]
  },
  {
   "cell_type": "code",
   "execution_count": 50,
   "metadata": {},
   "outputs": [
    {
     "name": "stdout",
     "output_type": "stream",
     "text": [
      "[10, 20, 30, 40]\n"
     ]
    }
   ],
   "source": [
    "l\n",
    "print(l[:4])"
   ]
  },
  {
   "cell_type": "code",
   "execution_count": 15,
   "metadata": {},
   "outputs": [
    {
     "name": "stdout",
     "output_type": "stream",
     "text": [
      "[2, 4, 5, 6, 7, [20, 40, 50, 60]]\n",
      "[2, 6]\n"
     ]
    }
   ],
   "source": [
    "print(l)\n",
    "print(l[::3])  # step 2 "
   ]
  },
  {
   "cell_type": "code",
   "execution_count": 52,
   "metadata": {},
   "outputs": [
    {
     "name": "stdout",
     "output_type": "stream",
     "text": [
      "[10, 20, 30, 40, 50, 60, 70, [20, 40, 50, 60]]\n",
      "[20, 40, 60, [20, 40, 50, 60]]\n"
     ]
    }
   ],
   "source": [
    "print(l)\n",
    "print(l[1::2])"
   ]
  },
  {
   "cell_type": "code",
   "execution_count": 53,
   "metadata": {},
   "outputs": [
    {
     "name": "stdout",
     "output_type": "stream",
     "text": [
      "[30, 40, 50, 60, 70, [20, 40, 50, 60]]\n"
     ]
    }
   ],
   "source": [
    "print(l[2:])"
   ]
  },
  {
   "cell_type": "code",
   "execution_count": 20,
   "metadata": {},
   "outputs": [
    {
     "name": "stdout",
     "output_type": "stream",
     "text": [
      "[2, 4, 5, 6, 7, [20, 40, 50, 60]]\n"
     ]
    },
    {
     "data": {
      "text/plain": [
       "[4, 5]"
      ]
     },
     "execution_count": 20,
     "metadata": {},
     "output_type": "execute_result"
    }
   ],
   "source": [
    "print(l)\n",
    "l[1:3]"
   ]
  },
  {
   "cell_type": "code",
   "execution_count": 17,
   "metadata": {},
   "outputs": [
    {
     "data": {
      "text/plain": [
       "[2, 4, 5, 6, 7, [20, 40, 50, 60]]"
      ]
     },
     "execution_count": 17,
     "metadata": {},
     "output_type": "execute_result"
    }
   ],
   "source": [
    "len(l)\n",
    "l"
   ]
  },
  {
   "cell_type": "code",
   "execution_count": 21,
   "metadata": {},
   "outputs": [
    {
     "data": {
      "text/plain": [
       "[60, 120, 160]"
      ]
     },
     "execution_count": 21,
     "metadata": {},
     "output_type": "execute_result"
    }
   ],
   "source": [
    "\n",
    "l5 = [80, 60, 30, 20, 120, 140, 150, 160]   ## include the element f the elemt\n",
    "l5[1:9:3]"
   ]
  },
  {
   "cell_type": "code",
   "execution_count": 22,
   "metadata": {},
   "outputs": [
    {
     "data": {
      "text/plain": [
       "[160, 140, 20, 60]"
      ]
     },
     "execution_count": 22,
     "metadata": {},
     "output_type": "execute_result"
    }
   ],
   "source": [
    "l5[::-2]"
   ]
  },
  {
   "cell_type": "code",
   "execution_count": 58,
   "metadata": {},
   "outputs": [
    {
     "data": {
      "text/plain": [
       "[[20, 40, 50, 60], 70, 60, 50, 40, 30, 20, 10]"
      ]
     },
     "execution_count": 58,
     "metadata": {},
     "output_type": "execute_result"
    }
   ],
   "source": [
    "l[::-1]"
   ]
  },
  {
   "cell_type": "code",
   "execution_count": 59,
   "metadata": {},
   "outputs": [],
   "source": [
    "# #### upadating the list ................  "
   ]
  },
  {
   "cell_type": "code",
   "execution_count": 60,
   "metadata": {},
   "outputs": [],
   "source": [
    "l[2] = 60"
   ]
  },
  {
   "cell_type": "code",
   "execution_count": 61,
   "metadata": {},
   "outputs": [
    {
     "data": {
      "text/plain": [
       "[10, 20, 60, 40, 50, 60, 70, [20, 40, 50, 60]]"
      ]
     },
     "execution_count": 61,
     "metadata": {},
     "output_type": "execute_result"
    }
   ],
   "source": [
    " l[::]   # all element  "
   ]
  },
  {
   "cell_type": "code",
   "execution_count": 62,
   "metadata": {},
   "outputs": [],
   "source": [
    "l[4] = 100\n",
    "d = 100,20,30,40\n",
    "l.append(d)"
   ]
  },
  {
   "cell_type": "code",
   "execution_count": 63,
   "metadata": {},
   "outputs": [
    {
     "name": "stdout",
     "output_type": "stream",
     "text": [
      "[]\n"
     ]
    }
   ],
   "source": [
    "print(l[10:])"
   ]
  },
  {
   "cell_type": "code",
   "execution_count": 64,
   "metadata": {},
   "outputs": [],
   "source": [
    "list = [\"A\",\"B\",\"C\",\"D\"]"
   ]
  },
  {
   "cell_type": "code",
   "execution_count": 65,
   "metadata": {},
   "outputs": [
    {
     "data": {
      "text/plain": [
       "4"
      ]
     },
     "execution_count": 65,
     "metadata": {},
     "output_type": "execute_result"
    }
   ],
   "source": [
    "len(list)\n"
   ]
  },
  {
   "cell_type": "markdown",
   "metadata": {},
   "source": [
    " #### Important function of **List**:\n",
    " \n",
    " * **function** is defined in outside the class and **method** inside the class\n"
   ]
  },
  {
   "cell_type": "code",
   "execution_count": 221,
   "metadata": {},
   "outputs": [
    {
     "name": "stdout",
     "output_type": "stream",
     "text": [
      "It is method \n",
      "hello this is function\n"
     ]
    }
   ],
   "source": [
    "class New:\n",
    "    def f1(self):\n",
    "        print(\"hello this is function\")\n",
    "    \n",
    "    class Student:\n",
    "        def info(self):\n",
    "            print(\"It is method \")\n",
    "\n",
    "\n",
    "s = Student()\n",
    "\n",
    "s.info()  \n",
    "\n",
    "s1 = New()\n",
    "\n",
    "s1.f1()\n",
    "\n",
    "    "
   ]
  },
  {
   "cell_type": "markdown",
   "metadata": {},
   "source": [
    "**Important function and method:**\n",
    "\n",
    "* len(list)  \n",
    "* count()   # number of occurence of each object \n",
    "* index()   # function\n"
   ]
  },
  {
   "cell_type": "code",
   "execution_count": 35,
   "metadata": {},
   "outputs": [
    {
     "name": "stdout",
     "output_type": "stream",
     "text": [
      "8\n",
      "3\n",
      "1\n"
     ]
    }
   ],
   "source": [
    "\n",
    "l = [10,20,30,40,50,20,22,20]\n",
    "\n",
    "print(len(l))  # len of list\n",
    "\n",
    "print(l.count(20))  # count number of occurence of 20 in list \n",
    "\n",
    "print(l.index(20))  # index of 20 in list return first occurence index\n",
    "\n",
    "\n",
    "#print(l.index(60)) # value Error check element present or not   \n",
    "\n",
    "# l.index(50)\n"
   ]
  },
  {
   "cell_type": "markdown",
   "metadata": {},
   "source": [
    "#### searching the element from list"
   ]
  },
  {
   "cell_type": "code",
   "execution_count": 36,
   "metadata": {},
   "outputs": [
    {
     "name": "stdout",
     "output_type": "stream",
     "text": [
      "enter the value to search 40\n",
      "occurence of 40 : 3\n"
     ]
    }
   ],
   "source": [
    "l = [10,20,30,40,50,60,180]\n",
    "target = int(input(\"enter the value to search \"))\n",
    "\n",
    "if target in l:\n",
    "    print('occurence of',target,':',l.index(target))\n",
    "else:\n",
    "    print(target,'not in list')\n",
    "        "
   ]
  },
  {
   "cell_type": "markdown",
   "metadata": {},
   "source": [
    "#### using try and except"
   ]
  },
  {
   "cell_type": "code",
   "execution_count": 19,
   "metadata": {},
   "outputs": [
    {
     "name": "stdout",
     "output_type": "stream",
     "text": [
      "enter the value to search 50\n",
      "50 avilable and its first occurence is at 4\n"
     ]
    }
   ],
   "source": [
    "\n",
    "l = [10,20,30,40,50,60]\n",
    "target=int(input(\"enter the value to search \"))\n",
    "\n",
    "try:\n",
    "    print(target,'avilable and its first occurence is at',l.index(target))\n",
    "except ValueError:\n",
    "    print(target,'not avilable')"
   ]
  },
  {
   "cell_type": "markdown",
   "metadata": {},
   "source": [
    "#### Manipulating element of List:\n",
    "\n",
    "if we want to added the element in list then we call\n",
    "only applicable for list\n",
    "\n",
    "* l.append(ele)    # method\n",
    "* l.insert(index,element)\n",
    "\n",
    "what is difference between append() and insert()\n",
    " - append - added add end position\n",
    " - insert - specific position\n",
    "\n",
    "* extend()\n",
    "\n",
    " - append add all element "
   ]
  },
  {
   "cell_type": "code",
   "execution_count": 26,
   "metadata": {},
   "outputs": [
    {
     "name": "stdout",
     "output_type": "stream",
     "text": [
      "[10, 20, 30, 40, 50, 60, 70, 80]\n"
     ]
    },
    {
     "data": {
      "text/plain": [
       "[10, 20, 30, 40, 50, 60, 70, 80, 100]"
      ]
     },
     "execution_count": 26,
     "metadata": {},
     "output_type": "execute_result"
    }
   ],
   "source": [
    "l = [10,20,30,40,50,60]\n",
    "\n",
    "l.append(70)\n",
    "l.append(80)\n",
    "print (l)\n",
    "\n",
    "l.insert(10,100)\n",
    "l"
   ]
  },
  {
   "cell_type": "markdown",
   "metadata": {},
   "source": [
    "* To add o to 100 element in list using loop divisible by 10"
   ]
  },
  {
   "cell_type": "code",
   "execution_count": 28,
   "metadata": {},
   "outputs": [
    {
     "name": "stdout",
     "output_type": "stream",
     "text": [
      "[0, 10, 20, 30, 40, 50, 60, 70, 80, 90, 100]\n"
     ]
    }
   ],
   "source": [
    "l = []\n",
    "for x in range(101):\n",
    "    if x%10 == 0:\n",
    "        l.append(x)  # append add to the last position\n",
    "print(l)"
   ]
  },
  {
   "cell_type": "markdown",
   "metadata": {},
   "source": [
    "• To add o to 100 element in list using append "
   ]
  },
  {
   "cell_type": "code",
   "execution_count": 73,
   "metadata": {},
   "outputs": [
    {
     "name": "stdout",
     "output_type": "stream",
     "text": [
      "[0, 10, 20, 30, 40, 50, 60, 70, 80, 90, 100]\n"
     ]
    }
   ],
   "source": [
    "l = []\n",
    "for x in range(0,101,10):\n",
    "        l.append(x)\n",
    "        \n",
    "# l.clear()\n",
    "print(l)"
   ]
  },
  {
   "cell_type": "markdown",
   "metadata": {},
   "source": [
    "*    if we want to insert element at specific position in list "
   ]
  },
  {
   "cell_type": "code",
   "execution_count": 31,
   "metadata": {},
   "outputs": [
    {
     "name": "stdout",
     "output_type": "stream",
     "text": [
      "[10, 20, 30, 40]\n",
      "[150, 10, 20, 30, 40]\n"
     ]
    }
   ],
   "source": [
    "\n",
    "l=[]\n",
    "l.append(10)\n",
    "l.append(20)\n",
    "l.append(30)\n",
    "l.append(40)\n",
    "\n",
    "print(l)\n",
    "l.insert(-4,150)\n",
    "print(l)\n",
    "\n",
    "# l.insert(50,80) # if index is greter than max index it add at last\n",
    "# print(l)\n",
    "\n",
    "# l.insert(-5,40) # added count from backward and end+1\n",
    "# print(l)\n",
    "\n",
    "# l.insert(-6,70)  \n",
    "# print(l)\n",
    "\n",
    "# l.insert(-10,90) # from backward is out of the backward index then is will added at the last\n",
    "\n",
    "# print(l.index(80))\n",
    "# print(l)  # 8 index"
   ]
  },
  {
   "cell_type": "code",
   "execution_count": 77,
   "metadata": {},
   "outputs": [
    {
     "name": "stdout",
     "output_type": "stream",
     "text": [
      "['A', 'B', 'C', 'KF', 'RC', 'FO']\n",
      "['KF', 'RC', 'FO']\n"
     ]
    }
   ],
   "source": [
    "# diffrence between the \n",
    "\n",
    "# extend :\n",
    "#-----------------------------------\n",
    "\n",
    "l1 =[\"A\",\"B\",\"C\"]\n",
    "l2 =[\"KF\",\"RC\",\"FO\"]\n",
    "\n",
    "l1.extend(l2)  # l2 element added to l1\n",
    "print(l1)  # ['A', 'B', 'C', 'KF', 'RC', 'FO']\n",
    "print(l2)  # ['KF', 'RC', 'FO']\n",
    "\n",
    "\n",
    "\n"
   ]
  },
  {
   "cell_type": "code",
   "execution_count": 35,
   "metadata": {},
   "outputs": [
    {
     "name": "stdout",
     "output_type": "stream",
     "text": [
      "{'p': 'public', '_b': 'internal use only', '_Test__c': 'Name Mangling', '_name': 'sudarshan', '_Demo__age': 48}\n"
     ]
    },
    {
     "data": {
      "text/plain": [
       "['_Demo__age',\n",
       " '_Test__c',\n",
       " '__class__',\n",
       " '__delattr__',\n",
       " '__dict__',\n",
       " '__dir__',\n",
       " '__doc__',\n",
       " '__eq__',\n",
       " '__format__',\n",
       " '__ge__',\n",
       " '__getattribute__',\n",
       " '__gt__',\n",
       " '__hash__',\n",
       " '__init__',\n",
       " '__init_subclass__',\n",
       " '__le__',\n",
       " '__lt__',\n",
       " '__module__',\n",
       " '__ne__',\n",
       " '__new__',\n",
       " '__reduce__',\n",
       " '__reduce_ex__',\n",
       " '__repr__',\n",
       " '__setattr__',\n",
       " '__sizeof__',\n",
       " '__str__',\n",
       " '__subclasshook__',\n",
       " '__weakref__',\n",
       " '_b',\n",
       " '_name',\n",
       " 'p']"
      ]
     },
     "execution_count": 35,
     "metadata": {},
     "output_type": "execute_result"
    }
   ],
   "source": [
    "class Test():\n",
    "    def __init__(self,address):\n",
    "        self.p =\"public\"\n",
    "        self._b = \"internal use only\"\n",
    "        self.__c = \"Name Mangling\"\n",
    "class Demo(Test):\n",
    "    def __init__(self,name,age):\n",
    "        super().__init__(self)\n",
    "        self._name = name\n",
    "        self.__age = age\n",
    "\n",
    "t = Demo('sudarshan',48,)\n",
    "\n",
    "print(t.__dict__)\n",
    "\n",
    "dir(t)\n"
   ]
  },
  {
   "cell_type": "code",
   "execution_count": null,
   "metadata": {},
   "outputs": [],
   "source": [
    "l=[]\n",
    "for x in range(0,101,10):\n",
    "    l.append(x)\n",
    "l"
   ]
  },
  {
   "cell_type": "code",
   "execution_count": null,
   "metadata": {},
   "outputs": [],
   "source": [
    "# l2 = l     #all element insertrd into l2\n",
    "# print(l2,end='\\n\\n') \n",
    "\n",
    "# # if want to change in l2 their changes will be reflateced also in l1\n",
    "\n",
    "# l2[2] = 100000\n",
    "\n",
    "# print(l2, end ='\\n\\n')   # all chages reflated into the l1 also\n",
    "\n",
    " \n",
    "\n",
    "#-----------------------------------------------------------\n",
    "print('l-----',l,end='\\n\\n')\n",
    "\n",
    "l2 = l.copy()\n",
    "l2[8] = 11120\n",
    "\n",
    "print(l2)  # chages reflacted only in l2 using copy method \n",
    "\n",
    "print(l)   # \n"
   ]
  },
  {
   "cell_type": "code",
   "execution_count": 182,
   "metadata": {},
   "outputs": [],
   "source": [
    "l = ['not feeling well','pl']\n",
    "s = 'pl , i am not feeling well today pl apply'"
   ]
  },
  {
   "cell_type": "code",
   "execution_count": 178,
   "metadata": {},
   "outputs": [
    {
     "name": "stdout",
     "output_type": "stream",
     "text": [
      "pl@entity, i am not feeling well@entity today pl@entity apply\n"
     ]
    }
   ],
   "source": [
    "import re\n",
    "s = 'pl, i am not feeling well today pl apply'\n",
    "for i in l:\n",
    "    s = re.sub(r\"\\b{}\\b\".format(i),i+'@entity',s) \n",
    "print(s)\n"
   ]
  },
  {
   "cell_type": "code",
   "execution_count": 195,
   "metadata": {},
   "outputs": [
    {
     "name": "stdout",
     "output_type": "stream",
     "text": [
      "pl , i am not feeling well@entity today pl@entity apply pl@entity\n"
     ]
    }
   ],
   "source": [
    "l = ['not feeling well','pl']\n",
    "s = 'pl , i am not feeling well today pl apply pl'\n",
    "for i in l:\n",
    "    s = s.replace(\" \"+i,\" \"+i+'@entity')\n",
    "print(s)"
   ]
  },
  {
   "cell_type": "code",
   "execution_count": 128,
   "metadata": {},
   "outputs": [
    {
     "data": {
      "text/plain": [
       "'This is resultado of the match'"
      ]
     },
     "execution_count": 128,
     "metadata": {},
     "output_type": "execute_result"
    }
   ],
   "source": [
    "import re\n",
    "editor = \"This is result of the match\"\n",
    "new_editor = re.sub(r\"\\bresult\\b\",\"resultado\",editor)\n",
    "new_editor"
   ]
  },
  {
   "cell_type": "code",
   "execution_count": null,
   "metadata": {},
   "outputs": [],
   "source": []
  },
  {
   "cell_type": "code",
   "execution_count": null,
   "metadata": {},
   "outputs": [],
   "source": []
  }
 ],
 "metadata": {
  "kernelspec": {
   "display_name": "Python 3",
   "language": "python",
   "name": "python3"
  },
  "language_info": {
   "codemirror_mode": {
    "name": "ipython",
    "version": 3
   },
   "file_extension": ".py",
   "mimetype": "text/x-python",
   "name": "python",
   "nbconvert_exporter": "python",
   "pygments_lexer": "ipython3",
   "version": "3.6.7"
  }
 },
 "nbformat": 4,
 "nbformat_minor": 2
}
