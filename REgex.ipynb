{
 "cells": [
  {
   "cell_type": "markdown",
   "metadata": {},
   "source": [
    "#### Main important application area of regular expression \n",
    "\n",
    "   - validation \n",
    "   - To devoleped pattern matching application\n",
    "   - Translator ( Compiler , interpreter , asssembler)\n",
    "   \n",
    "   "
   ]
  },
  {
   "cell_type": "markdown",
   "metadata": {},
   "source": [
    "Compiler design : Important stages  (RE play important role compiler design and interpreter design.)\n",
    "\n",
    "        -lexical Analysis---->Scanning and Tokenization -->internally it implemented by using RE \n",
    "        -syntax Analysis  ---->Parsing \n",
    "        -semantic Analysis \n",
    "        -intermidiate code ganration\n",
    "        -Code Optimazation\n",
    "        -Target code ganration\n",
    "    \n",
    "    \n",
    "    For eg: if we type \n",
    "    dfe fun(): # it is error (behind that is RE it check keyword)\n",
    "    \n",
    " - To developed Digital Circuit\n",
    " - Communation protocol ( a group of rules and regular ) TCP/IP\n",
    "    "
   ]
  },
  {
   "cell_type": "markdown",
   "metadata": {},
   "source": [
    " re module \n",
    " \n",
    "    1.compile() function\n",
    "    2.finditer():\n",
    "    after matched obj\n",
    "        3.start()\n",
    "        4.end()\n",
    "        5.guoup()"
   ]
  },
  {
   "cell_type": "code",
   "execution_count": 14,
   "metadata": {},
   "outputs": [
    {
     "name": "stdout",
     "output_type": "stream",
     "text": [
      "match is avilable at start index: 6\n",
      "match is avilable at start index: 11\n",
      "match is avilable at start index: 14\n",
      "match is avilable at start index: 20\n",
      "number of occurences 4\n"
     ]
    }
   ],
   "source": [
    "import re\n",
    "count = 0\n",
    "pattern = re.compile('t')\n",
    "matcher = pattern.finditer('hello this testing string')\n",
    "\n",
    "for match in matcher:\n",
    "    count+=1\n",
    "    print('match is avilable at start index:',match.start())\n",
    "print('number of occurences',count)"
   ]
  },
  {
   "cell_type": "code",
   "execution_count": 5,
   "metadata": {},
   "outputs": [
    {
     "name": "stdout",
     "output_type": "stream",
     "text": [
      "<class 'callable_iterator'>\n",
      "start :0,end:2,group:ab\n",
      "start :3,end:5,group:ab\n",
      "start :5,end:7,group:ab\n",
      "number of occurences 3\n"
     ]
    }
   ],
   "source": [
    "import re\n",
    "count = 0\n",
    "matcher = re.finditer('ab','abaababa')  # we dont need compile method\n",
    "print(type(matcher))\n",
    "for match in matcher:\n",
    "    count+=1\n",
    "    print('start :{},end:{},group:{}'.format(match.start(),match.end(),match.group()))\n",
    "print('number of occurences',count)\n",
    "\n"
   ]
  },
  {
   "cell_type": "markdown",
   "metadata": {},
   "source": [
    "Charecter classes :\n",
    "\n",
    "    [abc] -------> either  a or b or c\n",
    "    [^abc] ------> Except a and b and c\n",
    "    [a-z] -------> any lower case \n",
    "    [A-Z] -------> any upper case\n",
    "    [a-zA-Z] ----->any alphabet\n",
    "    [0-9]\n",
    "    [a-zA-Z0-9] --->alphanumeric\n",
    "    [^a-zA-Z0-9] -->symbol special\n"
   ]
  },
  {
   "cell_type": "code",
   "execution_count": 47,
   "metadata": {},
   "outputs": [
    {
     "name": "stdout",
     "output_type": "stream",
     "text": [
      "6  ---- @\n",
      "30  ---- $\n"
     ]
    }
   ],
   "source": [
    "import re \n",
    "\n",
    "s = \"hello @admin 123 ..... Welcome$ \"\n",
    "macher  = re.finditer('[^a-z0-9A-Z. ]',s)\n",
    "macher = re.finditer('[^\\w. ]',s)\n",
    "for m in macher:\n",
    "    print(m.start(),' ----',m.group())"
   ]
  },
  {
   "cell_type": "markdown",
   "metadata": {},
   "source": [
    "#### predefine charecter classes\n",
    "\n",
    "    \\s --> space charecter \n",
    "    \\S --> Except space charecter\n",
    "    \\d --> any digit\n",
    "    \\D --> Except digit\n",
    "    \\w --> any word charecter (alpha numeric)[a-zA-Z0-9](symbol are not including)\n",
    "    \\W --> Any charecter except word (special charecters)(only symbol)\n",
    "\n",
    "    .  --> Every charecter \n",
    "\n",
    "\n",
    "\n"
   ]
  },
  {
   "cell_type": "code",
   "execution_count": 14,
   "metadata": {},
   "outputs": [
    {
     "name": "stdout",
     "output_type": "stream",
     "text": [
      "space occure at start index: 0 ... a\n",
      "space occure at start index: 1 ... 7\n",
      "space occure at start index: 2 ... b\n",
      "space occure at start index: 5 ... k\n",
      "space occure at start index: 6 ... 9\n",
      "space occure at start index: 7 ... z\n"
     ]
    }
   ],
   "source": [
    "import re\n",
    "matcher = re.finditer('\\w','a7b @k9z')\n",
    "\n",
    "for match in matcher:\n",
    "    print('space occure at start index:',match.start(),'...',match.group())\n"
   ]
  },
  {
   "cell_type": "code",
   "execution_count": 51,
   "metadata": {},
   "outputs": [
    {
     "name": "stdout",
     "output_type": "stream",
     "text": [
      "except space start index: 0 ... a\n",
      "except space start index: 1 ... 7\n",
      "except space start index: 2 ... b\n",
      "except space start index: 5 ... @\n",
      "except space start index: 6 ... k\n",
      "except space start index: 7 ... 9\n",
      "except space start index: 8 ... z\n"
     ]
    }
   ],
   "source": [
    "import re\n",
    "matcher = re.finditer('[\\S]','a7b  @k9z')\n",
    "for match in matcher:\n",
    "    print('except space start index:',match.start(),'...',match.group())"
   ]
  },
  {
   "cell_type": "code",
   "execution_count": 52,
   "metadata": {},
   "outputs": [
    {
     "name": "stdout",
     "output_type": "stream",
     "text": [
      "1 ... 7\n",
      "6 ... 9\n"
     ]
    }
   ],
   "source": [
    "import re\n",
    "matcher = re.finditer('[\\d]','a7b @k9z')\n",
    "\n",
    "for match in matcher:\n",
    "    print(match.start(),'...',match.group())"
   ]
  },
  {
   "cell_type": "code",
   "execution_count": 22,
   "metadata": {},
   "outputs": [
    {
     "name": "stdout",
     "output_type": "stream",
     "text": [
      "0 ... a\n",
      "1 ... 7\n",
      "2 ... b\n",
      "3 ... m\n",
      "6 ... k\n",
      "7 ... 9\n",
      "8 ... z\n"
     ]
    }
   ],
   "source": [
    "import re\n",
    "matcher = re.finditer('\\w','a7bm @k9z')\n",
    "\n",
    "for match in matcher:\n",
    "    print(match.start(),'...',match.group())"
   ]
  },
  {
   "cell_type": "code",
   "execution_count": 23,
   "metadata": {},
   "outputs": [
    {
     "name": "stdout",
     "output_type": "stream",
     "text": [
      "0 ... a\n",
      "1 ... 7\n",
      "2 ... b\n",
      "5 ... k\n",
      "6 ... 9\n",
      "7 ... z\n"
     ]
    }
   ],
   "source": [
    "import re\n",
    "matcher = re.finditer('\\w','a7b @k9z')\n",
    "\n",
    "for match in matcher:\n",
    "    print(match.start(),'...',match.group())"
   ]
  },
  {
   "cell_type": "code",
   "execution_count": 24,
   "metadata": {},
   "outputs": [
    {
     "name": "stdout",
     "output_type": "stream",
     "text": [
      "3 ...  \n",
      "4 ... @\n"
     ]
    }
   ],
   "source": [
    "import re\n",
    "matcher = re.finditer('\\W','a7b @k9z')\n",
    "\n",
    "for match in matcher:\n",
    "    print(match.start(),'...',match.group())"
   ]
  },
  {
   "cell_type": "code",
   "execution_count": 25,
   "metadata": {},
   "outputs": [
    {
     "name": "stdout",
     "output_type": "stream",
     "text": [
      "0 ... a\n",
      "1 ... 7\n",
      "2 ... b\n",
      "3 ...  \n",
      "4 ... @\n",
      "5 ... k\n",
      "6 ... 9\n",
      "7 ... z\n"
     ]
    }
   ],
   "source": [
    "import re\n",
    "matcher = re.finditer('.','a7b @k9z')\n",
    "\n",
    "for match in matcher:\n",
    "    print(match.start(),'...',match.group())"
   ]
  },
  {
   "cell_type": "markdown",
   "metadata": {},
   "source": [
    "#### Quantifiers :\n",
    "\n",
    "Quantifiers can be used to specify the number of occurencess\n",
    "-The number of occurences\n",
    "\n",
    "    'a'  --> only 'a'\n",
    "    'a+' --> atlest one 'a'\n",
    "    'a*' --> any number of a's including zero number also\n",
    "    'a?' --> atmost one a's\n",
    "        either one a or zero number of a's\n",
    "        \n",
    "     a{n}  --> excatly n number of a's\n",
    "     a{m,n} -->minimum m number of a's and maximum n number of a's\n",
    " \n",
    " ^a --> it will check weather the giving target string start with 'a' or not\n",
    " \n",
    " a$ -->it will check wether the target string ends with 'a' or not\n",
    " \n",
    " "
   ]
  },
  {
   "cell_type": "code",
   "execution_count": 26,
   "metadata": {},
   "outputs": [
    {
     "name": "stdout",
     "output_type": "stream",
     "text": [
      "0 ... a\n",
      "2 ... a\n",
      "3 ... a\n",
      "5 ... a\n",
      "6 ... a\n",
      "7 ... a\n"
     ]
    }
   ],
   "source": [
    "import re\n",
    "matcher = re.finditer('a','abaabaaab')\n",
    "\n",
    "for match in matcher:\n",
    "    print(match.start(),'...',match.group())"
   ]
  },
  {
   "cell_type": "code",
   "execution_count": 27,
   "metadata": {},
   "outputs": [
    {
     "name": "stdout",
     "output_type": "stream",
     "text": [
      "0 ... a\n",
      "2 ... aa\n",
      "5 ... aaa\n"
     ]
    }
   ],
   "source": [
    "import re\n",
    "matcher = re.finditer('a+','abaabaaab')\n",
    "\n",
    "for match in matcher:\n",
    "    print(match.start(),'...',match.group())"
   ]
  },
  {
   "cell_type": "code",
   "execution_count": 28,
   "metadata": {},
   "outputs": [
    {
     "name": "stdout",
     "output_type": "stream",
     "text": [
      "0 ... a\n",
      "1 ... \n",
      "2 ... aa\n",
      "4 ... \n",
      "5 ... aaa\n",
      "8 ... \n",
      "9 ... \n"
     ]
    }
   ],
   "source": [
    "import re\n",
    "matcher = re.finditer('a*','abaabaaab')\n",
    "\n",
    "for match in matcher:\n",
    "    print(match.start(),'...',match.group())"
   ]
  },
  {
   "cell_type": "code",
   "execution_count": 29,
   "metadata": {},
   "outputs": [
    {
     "name": "stdout",
     "output_type": "stream",
     "text": [
      "0 ... a\n",
      "1 ... \n",
      "2 ... a\n",
      "3 ... a\n",
      "4 ... \n",
      "5 ... a\n",
      "6 ... a\n",
      "7 ... a\n",
      "8 ... \n",
      "9 ... \n"
     ]
    }
   ],
   "source": [
    "import re\n",
    "matcher = re.finditer('a?','abaabaaab')\n",
    "\n",
    "for match in matcher:\n",
    "    print(match.start(),'...',match.group())"
   ]
  },
  {
   "cell_type": "code",
   "execution_count": 30,
   "metadata": {},
   "outputs": [
    {
     "name": "stdout",
     "output_type": "stream",
     "text": [
      "5 ... aaa\n"
     ]
    }
   ],
   "source": [
    "import re\n",
    "matcher = re.finditer('a{3}','abaabaaab')\n",
    "\n",
    "for match in matcher:\n",
    "    print(match.start(),'...',match.group())"
   ]
  },
  {
   "cell_type": "code",
   "execution_count": 31,
   "metadata": {},
   "outputs": [
    {
     "name": "stdout",
     "output_type": "stream",
     "text": [
      "0 ... a\n",
      "2 ... a\n",
      "3 ... a\n",
      "5 ... a\n",
      "6 ... a\n",
      "7 ... a\n"
     ]
    }
   ],
   "source": [
    "import re\n",
    "matcher = re.finditer('a','abaabaaab')\n",
    "\n",
    "for match in matcher:\n",
    "    print(match.start(),'...',match.group())"
   ]
  },
  {
   "cell_type": "code",
   "execution_count": 32,
   "metadata": {},
   "outputs": [
    {
     "name": "stdout",
     "output_type": "stream",
     "text": [
      "0 ... a\n",
      "2 ... aa\n",
      "5 ... aaa\n"
     ]
    }
   ],
   "source": [
    "import re\n",
    "matcher = re.finditer('a{1,3}','abaabaaab')\n",
    "\n",
    "for match in matcher:\n",
    "    print(match.start(),'...',match.group())"
   ]
  },
  {
   "cell_type": "code",
   "execution_count": 33,
   "metadata": {},
   "outputs": [
    {
     "name": "stdout",
     "output_type": "stream",
     "text": [
      "0 ... a\n",
      "2 ... aa\n",
      "5 ... aaa\n"
     ]
    }
   ],
   "source": [
    "import re\n",
    "matcher = re.finditer('a{1,3}','abaabaaab')\n",
    "\n",
    "for match in matcher:\n",
    "    print(match.start(),'...',match.group())"
   ]
  },
  {
   "cell_type": "code",
   "execution_count": 20,
   "metadata": {},
   "outputs": [
    {
     "name": "stdout",
     "output_type": "stream",
     "text": [
      "0 ... a\n"
     ]
    }
   ],
   "source": [
    "import re\n",
    "matcher = re.finditer('^a','abaabaaab ')\n",
    "\n",
    "for match in matcher:\n",
    "    print(match.start(),'...',match.group())\n",
    "    "
   ]
  },
  {
   "cell_type": "code",
   "execution_count": 35,
   "metadata": {},
   "outputs": [
    {
     "name": "stdout",
     "output_type": "stream",
     "text": [
      "8 ... b\n"
     ]
    }
   ],
   "source": [
    "import re\n",
    "matcher = re.finditer('b$','abaabaaab')\n",
    "\n",
    "for match in matcher:\n",
    "    print(match.start(),'...',match.group())"
   ]
  },
  {
   "cell_type": "markdown",
   "metadata": {},
   "source": [
    "#### Important function of re module :\n",
    "    \n",
    "    1.match()\n",
    "    2.fullmatch()\n",
    "    3.search()\n",
    "    4.findall():\n",
    "    5.finditer()\n",
    "    6.sub()\n",
    "    7.subn()\n",
    "    8.split()\n",
    "    9.comiple()\n",
    "    \n",
    "    \n",
    "1. match() \n",
    "    -to check the given pattern at biginning of target string\n",
    "    if then retuen match object\n",
    "    \n",
    "2. fullmatch():\n",
    "3. search(): \n",
    "      - to serch given pattern i string if match is not avilable it return None"
   ]
  },
  {
   "cell_type": "code",
   "execution_count": 44,
   "metadata": {},
   "outputs": [
    {
     "name": "stdout",
     "output_type": "stream",
     "text": [
      "enter pattern to check:def\n",
      "match is not avilable at the bigging of the string\n"
     ]
    }
   ],
   "source": [
    "import re\n",
    "s = input('enter pattern to check:')\n",
    "\n",
    "m=re.match(s,'abcdghf def hij klm')\n",
    "\n",
    "if m!=None:\n",
    "        print('match is avilable at the bigging of the string')\n",
    "        print('start index:{} and End index:{}'.format(m.start(),m.end()))\n",
    "else:\n",
    "        print('match is not avilable at the bigging of the string')"
   ]
  },
  {
   "cell_type": "code",
   "execution_count": 21,
   "metadata": {},
   "outputs": [
    {
     "name": "stdout",
     "output_type": "stream",
     "text": [
      "enter pattern to check:cd\n",
      "full string not matched\n"
     ]
    }
   ],
   "source": [
    "#fullmatch()\n",
    "import re\n",
    "s = input('enter pattern to check:')\n",
    "\n",
    "m=re.fullmatch(s,'abcdghf')  # it matched start to end \n",
    "\n",
    "if m!=None:\n",
    "        print('full string matched')\n",
    "else:\n",
    "        print('full string not matched')"
   ]
  },
  {
   "cell_type": "code",
   "execution_count": 23,
   "metadata": {},
   "outputs": [
    {
     "name": "stdout",
     "output_type": "stream",
     "text": [
      "enter pattern to check:ef\n",
      "match is avilable\n",
      "first occu with start with index:11 and Ends with :13\n"
     ]
    }
   ],
   "source": [
    "# search() to search pattern in given string\n",
    "import re\n",
    "s = input('enter pattern to check:')\n",
    "\n",
    "m=re.search(s,'abaabaaabd ef')\n",
    "\n",
    "if m!=None:\n",
    "        print('match is avilable')\n",
    "        print('first occu with start with index:{} and Ends with :{}'.format(m.start(),m.end()))\n",
    "else:\n",
    "        print('not search given string ')"
   ]
  },
  {
   "cell_type": "code",
   "execution_count": 54,
   "metadata": {},
   "outputs": [
    {
     "name": "stdout",
     "output_type": "stream",
     "text": [
      "['New Activity']\n"
     ]
    }
   ],
   "source": [
    "#findall() find all match return in list\n",
    "import re\n",
    "\n",
    "l=re.findall('New Activity*','New Activity 7b9k6z')\n",
    "print(l)"
   ]
  },
  {
   "cell_type": "code",
   "execution_count": 2,
   "metadata": {},
   "outputs": [
    {
     "name": "stdout",
     "output_type": "stream",
     "text": [
      "[' ', '@', '#', '$', '%', '^', '&', '*']\n"
     ]
    }
   ],
   "source": [
    "#2#findall() find all match return in list\n",
    "import re\n",
    "\n",
    "l=re.findall('\\W','a7 @#$%^&*b9k6z')\n",
    "print(l)"
   ]
  },
  {
   "cell_type": "code",
   "execution_count": 3,
   "metadata": {},
   "outputs": [
    {
     "name": "stdout",
     "output_type": "stream",
     "text": [
      "['a', 'b', 'k', 'z']\n"
     ]
    }
   ],
   "source": [
    "#findall() find all match return in list\n",
    "import re\n",
    "\n",
    "l=re.findall('[a-z]','a7b9k6z')\n",
    "print(l)"
   ]
  },
  {
   "cell_type": "code",
   "execution_count": 6,
   "metadata": {},
   "outputs": [
    {
     "name": "stdout",
     "output_type": "stream",
     "text": [
      "1 2 7\n",
      "3 4 9\n",
      "5 6 6\n",
      "<callable_iterator object at 0x05586FB0>\n"
     ]
    }
   ],
   "source": [
    "#finditer it retrun iterator of mathced object.\n",
    "\n",
    "#findall() find all match return in list\n",
    "import re\n",
    "\n",
    "matcher = re.finditer('\\d','a7b9k6z')\n",
    "for m in matcher:\n",
    "    print(m.start(),m.end(),m.group())\n",
    "\n",
    "print(matcher) # <callable_iterator object at 0x05586FB0> "
   ]
  },
  {
   "cell_type": "code",
   "execution_count": 11,
   "metadata": {},
   "outputs": [
    {
     "name": "stdout",
     "output_type": "stream",
     "text": [
      "a##b##k##t##k\n"
     ]
    }
   ],
   "source": [
    "# 6 # sub : substitution or replacement \n",
    "\n",
    "# re.sub( regex, replcement, targetstring )\n",
    "\n",
    "import re \n",
    "\n",
    "s = re.sub('\\d','##','a7b9k5t9k')  # digit replce with #\n",
    "print(s)"
   ]
  },
  {
   "cell_type": "code",
   "execution_count": 17,
   "metadata": {},
   "outputs": [
    {
     "name": "stdout",
     "output_type": "stream",
     "text": [
      "<class 'tuple'>\n",
      "the result string:  a#b#k#t#k\n",
      "the number of replacement 4\n",
      "('a#b#k#t#k', 4)\n"
     ]
    }
   ],
   "source": [
    "#7 # subn(): # how many replcement happen we want to know that why.\n",
    "# return int \n",
    "\n",
    "import re \n",
    "\n",
    "t= re.subn('\\d','#','a7b9k5t9k')  # digit replce with #\n",
    "print(type(t))\n",
    "print('the result string:',t[0])\n",
    "print('the number of replacement:',t[1])\n",
    "print(t)  # ('a#b#k#t#k', 4)"
   ]
  },
  {
   "cell_type": "code",
   "execution_count": null,
   "metadata": {},
   "outputs": [],
   "source": [
    "#8  #split() : if u want to splite given string "
   ]
  },
  {
   "cell_type": "code",
   "execution_count": 19,
   "metadata": {},
   "outputs": [
    {
     "name": "stdout",
     "output_type": "stream",
     "text": [
      "<class 'list'>\n",
      "['10', '20', '30', '40', '50', '60']\n"
     ]
    }
   ],
   "source": [
    "import re\n",
    "\n",
    "l= re.split('-','10-20-30-40-50-60')\n",
    "print(type(l))#list\n",
    "print(l)"
   ]
  },
  {
   "cell_type": "code",
   "execution_count": 21,
   "metadata": {},
   "outputs": [
    {
     "name": "stdout",
     "output_type": "stream",
     "text": [
      "www\n",
      "google\n",
      "com\n"
     ]
    }
   ],
   "source": [
    "import re\n",
    "l= re.split('\\.','www.google.com')\n",
    "for x in l:\n",
    "    print(x)"
   ]
  },
  {
   "cell_type": "code",
   "execution_count": 22,
   "metadata": {},
   "outputs": [
    {
     "name": "stdout",
     "output_type": "stream",
     "text": [
      "www\n",
      "google\n",
      "com\n"
     ]
    }
   ],
   "source": [
    "import re\n",
    "l= re.split('[.]','www.google.com')\n",
    "for x in l:\n",
    "    print(x)"
   ]
  },
  {
   "cell_type": "code",
   "execution_count": 28,
   "metadata": {},
   "outputs": [
    {
     "name": "stdout",
     "output_type": "stream",
     "text": [
      "start with learn\n"
     ]
    }
   ],
   "source": [
    "# ^symbol: startwith \n",
    "    \n",
    "# $symbol : endwith\n",
    "\n",
    "\n",
    "import re \n",
    "\n",
    "s = \"learning python is very easy\"\n",
    "res = re.search(\"^learn\",s)\n",
    "\n",
    "if res != None:\n",
    "    print('start with learn')\n",
    "else:\n",
    "    print('not start with learn')\n",
    "    "
   ]
  },
  {
   "cell_type": "code",
   "execution_count": 29,
   "metadata": {},
   "outputs": [
    {
     "name": "stdout",
     "output_type": "stream",
     "text": [
      "target string end with easy\n"
     ]
    }
   ],
   "source": [
    "#ends with\n",
    "\n",
    "import re \n",
    "\n",
    "s = \"learning python is very easy\"\n",
    "res = re.search(\"easy$\",s)\n",
    "\n",
    "if res != None:\n",
    "    print('target string end with easy')\n",
    "else:\n",
    "    print('target string id not end with easy')"
   ]
  },
  {
   "cell_type": "code",
   "execution_count": 39,
   "metadata": {},
   "outputs": [
    {
     "name": "stdout",
     "output_type": "stream",
     "text": [
      "target string end with easy\n"
     ]
    }
   ],
   "source": [
    "# case is not important (case-in-sensitive)\n",
    "import re \n",
    "\n",
    "s = \"learning python is very easy\"\n",
    "res = re.search(\"Easy$\", s ,re.IGNORECASE )\n",
    "\n",
    "if res != None:\n",
    "    print('target string end with easy')\n",
    "else:\n",
    "    print('target string id not end with easy')"
   ]
  },
  {
   "cell_type": "code",
   "execution_count": null,
   "metadata": {},
   "outputs": [],
   "source": [
    "import re \n",
    "\n",
    "s = \"learning python is very easy\"\n",
    "res = re.search(\"Easy$\", s ,re.IGNORECASE )\n",
    "\n",
    "if res != None:\n",
    "    print('target string end with easy')\n",
    "else:\n",
    "    print('target string id not end with easy')\n",
    "    "
   ]
  },
  {
   "cell_type": "code",
   "execution_count": 44,
   "metadata": {},
   "outputs": [
    {
     "name": "stdout",
     "output_type": "stream",
     "text": [
      "target string end with easy\n"
     ]
    }
   ],
   "source": [
    "import re \n",
    "\n",
    "s = \"learning python is very easy\"\n",
    "res = re.search(\"Easy$\", s ,re.IGNORECASE )\n",
    "\n",
    "if res != None:\n",
    "    print('target string end with easy')\n",
    "else:\n",
    "    print('target string is not end with easy')"
   ]
  },
  {
   "cell_type": "markdown",
   "metadata": {},
   "source": [
    "All Yava Language Identifiers\n",
    "\n",
    "Rule:\n",
    "    \n",
    "1.The allowed charecter are:\n",
    "\n",
    "        -alphabets\n",
    "        -digit\n",
    "        - #\n",
    "2.first charecter should be lower case alphabet symbol from a to k\n",
    "    \n",
    "3.The second charecter should be any digit divisible by 3\n",
    "\n",
    "4.the length of odentifier should be atlest 2.\n"
   ]
  },
  {
   "cell_type": "code",
   "execution_count": null,
   "metadata": {},
   "outputs": [],
   "source": [
    "import re\n",
    "s  = input('enter identifer to valid')\n",
    "m=re.fullmatch('[a-k][0369][a-zA-Z0-9#]*',s)\n",
    "if m!= None:\n",
    "    print(s,'is a valid yava ident')\n",
    "else:\n",
    "    print(s,'it is not valid yava ident')\n"
   ]
  },
  {
   "cell_type": "code",
   "execution_count": 23,
   "metadata": {},
   "outputs": [
    {
     "name": "stdout",
     "output_type": "stream",
     "text": [
      "enter mbile numer to validate9096622179\n",
      "9096622179 is a valid mobile number\n"
     ]
    }
   ],
   "source": [
    "#10 digit valid number \n",
    "\n",
    "import re\n",
    "s  = input('enter mbile numer to validate')\n",
    "m=re.findall('[6-9]\\d{9}',s)\n",
    "if m!= None:\n",
    "    print(s,'is a valid mobile number')\n",
    "else:\n",
    "    print(s,'it is not valid mobile number')\n"
   ]
  },
  {
   "cell_type": "code",
   "execution_count": 8,
   "metadata": {},
   "outputs": [
    {
     "name": "stdout",
     "output_type": "stream",
     "text": [
      "enter mbile numer to validate9096622179\n",
      "9096622179 : it is not valid mobile number\n"
     ]
    }
   ],
   "source": [
    "#requiredment:\n",
    "\n",
    "# 10 : 6 to 9 ,9 digit(9096622179) \n",
    "# 11 : The first digit should be 0 (09096622179)\n",
    "# 12 : The first two digit should be 91 (919096622179)\n",
    "# 13 : The frist three digit should be +91 (+919096622179)\n",
    "    \n",
    "\n",
    "# it also valid but see 2 example (findall and fullmatch diff is important)\n",
    "    \n",
    "# import re\n",
    "# s  = input('enter mbile numer to validate')\n",
    "# m=re.findall('/^[0-9]{10,14}$/ :',s)\n",
    "# if m!= None:\n",
    "#     print(s,': it is a valid mobile number')\n",
    "# else:\n",
    "#     print(s,': it is not valid mobile number')\n",
    "\n",
    "\n",
    "#                  OR\n",
    "\n",
    "#Parfect mobile number checker\n",
    "\n",
    "\n",
    "import re\n",
    "s  = input('enter mbile numer to validate')\n",
    "m=re.fullmatch('(0|91|\\+91)?[6789]\\d{9}',s)\n",
    "if m!= None:\n",
    "     print(s,': it is a valid mobile number')\n",
    "else:\n",
    "     print(s,': it is not valid mobile number')\n"
   ]
  },
  {
   "cell_type": "code",
   "execution_count": 45,
   "metadata": {},
   "outputs": [
    {
     "name": "stdout",
     "output_type": "stream",
     "text": [
      "Extracted all mobile number into output.txt file\n"
     ]
    }
   ],
   "source": [
    "import re\n",
    "fr = open('input.txt','r') \n",
    "fw = open('output.txt','w')\n",
    "\n",
    "for line in fr:\n",
    "    set =re.findall('[6-9]\\d{9}',line)\n",
    "    for number in set:\n",
    "        fw.write(number +'\\n')\n",
    "print('Extracted all mobile number into output.txt file')\n",
    "fr.close()\n",
    "fw.close()"
   ]
  },
  {
   "cell_type": "code",
   "execution_count": 46,
   "metadata": {},
   "outputs": [
    {
     "name": "stdout",
     "output_type": "stream",
     "text": [
      "Serching.... http://google.com\n",
      "<title>Google</title\n",
      "Serching.... http://rediff.com\n",
      "<title>Rediff.com: Online Shopping, Rediffmail, Latest India News, Business, Bollywood, Sports, Stock, Live Cricket Score, Money, Movie Reviews</title\n"
     ]
    }
   ],
   "source": [
    "#web scraping using re\n",
    "\n",
    "import re,urllib\n",
    "\n",
    "import urllib.request\n",
    "\n",
    "sites = ['http://google.com','http://rediff.com']\n",
    "\n",
    "for s in sites:\n",
    "    print('Serching....',s)\n",
    "    u=urllib.request.urlopen(s)\n",
    "    text = u.read()\n",
    "    title=re.findall(\"<title>.*</title\",str(text),re.IGNORECASE)\n",
    "    print(title[0])\n"
   ]
  },
  {
   "cell_type": "code",
   "execution_count": 1,
   "metadata": {},
   "outputs": [],
   "source": [
    "# # \n",
    "\n",
    "# import re ,urllib\n",
    "# import urllib.request\n",
    "\n",
    "# u = urllib.request.urlopen(\"https://www.redbus.in/info/contactus\")\n",
    "\n",
    "# text = u.read()\n",
    "\n",
    "# numbers = re.findall('[0-9]{3}[-]{8}')\n",
    "\n",
    "# for n in numbers:\n",
    "#     print(n)"
   ]
  },
  {
   "cell_type": "code",
   "execution_count": null,
   "metadata": {},
   "outputs": [],
   "source": [
    "#mail id is valid or not check.....\n",
    "# for gmail id\n",
    "import re\n",
    "s  = input('enter validate email')\n",
    "m=re.fullmatch('\\w[a-zA-Z0-9_.]*@gmail.com',s)\n",
    "if m!= None:\n",
    "    print(s,': it is a valid mail')\n",
    "else:\n",
    "    print(s,': it is not valid mail')\n",
    "\n"
   ]
  },
  {
   "cell_type": "code",
   "execution_count": 19,
   "metadata": {},
   "outputs": [
    {
     "name": "stdout",
     "output_type": "stream",
     "text": [
      "enter validate emails.gurav@rabbitandtortoise.com\n",
      "s.gurav@rabbitandtortoise.com : it is a valid mail\n"
     ]
    }
   ],
   "source": [
    "#all mail ids \n",
    "import re\n",
    "s  = input('enter validate email')\n",
    "m=re.fullmatch('\\w[a-zA-Z0-9_.]*@[a-z0-9]+[.][a-z]+',s)\n",
    "if m!= None:\n",
    "    print(s,': it is a valid mail')\n",
    "else:\n",
    "    print(s,': it is not valid mail')\n"
   ]
  },
  {
   "cell_type": "code",
   "execution_count": null,
   "metadata": {},
   "outputs": [],
   "source": [
    "#only for company\n",
    "import re\n",
    "s  = input('enter validate email')\n",
    "m=re.fullmatch('\\w[a-zA-Z0-9_.]*@(gmail|rediffmail|yahoo|rabbitandtortoise|rnt)+[.][a-z]+',s)\n",
    "if m!= None:\n",
    "    print(s,': it is a valid mail')\n",
    "else:\n",
    "    print(s,': it is not valid mail')\n"
   ]
  },
  {
   "cell_type": "code",
   "execution_count": null,
   "metadata": {},
   "outputs": [],
   "source": [
    "program to collect all .com url from text file\n"
   ]
  },
  {
   "cell_type": "code",
   "execution_count": 26,
   "metadata": {},
   "outputs": [
    {
     "name": "stdout",
     "output_type": "stream",
     "text": [
      "enter the no10 20 30 40 50 60 70\n"
     ]
    }
   ],
   "source": [
    "l = [eval(x) for x in input('enter the no').split()]"
   ]
  },
  {
   "cell_type": "code",
   "execution_count": 27,
   "metadata": {},
   "outputs": [
    {
     "name": "stdout",
     "output_type": "stream",
     "text": [
      "[70, 60, 50, 40, 30, 20, 10]\n"
     ]
    },
    {
     "data": {
      "text/plain": [
       "[10, 20, 30, 40, 50, 60, 70]"
      ]
     },
     "execution_count": 27,
     "metadata": {},
     "output_type": "execute_result"
    }
   ],
   "source": [
    "l = l[::-1]\n",
    "print(l)\n",
    "\n",
    "l.reverse()\n",
    "l"
   ]
  },
  {
   "cell_type": "code",
   "execution_count": 28,
   "metadata": {},
   "outputs": [
    {
     "data": {
      "text/plain": [
       "[70, 60, 50, 40, 30, 20, 10]"
      ]
     },
     "execution_count": 28,
     "metadata": {},
     "output_type": "execute_result"
    }
   ],
   "source": [
    "length = len(l)\n",
    "s = length\n",
    "new_list = [None]*length\n",
    "for item in l:\n",
    "    s = s - 1\n",
    "    new_list[s] = item\n",
    "new_list\n"
   ]
  },
  {
   "cell_type": "code",
   "execution_count": 35,
   "metadata": {},
   "outputs": [],
   "source": [
    "l=[10, 20, 30, 40, 50, 60, 70]"
   ]
  },
  {
   "cell_type": "code",
   "execution_count": 36,
   "metadata": {},
   "outputs": [],
   "source": [
    "l2 = []"
   ]
  },
  {
   "cell_type": "code",
   "execution_count": 37,
   "metadata": {},
   "outputs": [
    {
     "data": {
      "text/plain": [
       "[70, 60, 50, 40, 30, 20, 10]"
      ]
     },
     "execution_count": 37,
     "metadata": {},
     "output_type": "execute_result"
    }
   ],
   "source": [
    "i = len(l)-1\n",
    "while i>=0:\n",
    "    l2.append(l[i])\n",
    "    i -= 1   \n",
    "l2   "
   ]
  },
  {
   "cell_type": "code",
   "execution_count": 38,
   "metadata": {},
   "outputs": [
    {
     "name": "stdout",
     "output_type": "stream",
     "text": [
      "['s', 'u', 'd', 'a', 'r', 's', 'h', 'a', 'n']\n",
      "nahsradus"
     ]
    }
   ],
   "source": [
    "s = ['s','u','d','a','r','s','h','a','n']\n",
    "print(s)\n",
    "i = len(s) - 1\n",
    "while i >= 0:\n",
    "    print(s[i],end='')\n",
    "    i-=1"
   ]
  },
  {
   "cell_type": "code",
   "execution_count": null,
   "metadata": {},
   "outputs": [],
   "source": []
  },
  {
   "cell_type": "markdown",
   "metadata": {},
   "source": [
    "#### Problems:\n"
   ]
  },
  {
   "cell_type": "code",
   "execution_count": null,
   "metadata": {},
   "outputs": [],
   "source": [
    "(tom,19,80)  # 5\n",
    "(john,20,90) # 1\n",
    "(jony,17,91) # 2\n",
    "(jony,17,93) # 3\n",
    "(json,21,85) # 4\n"
   ]
  },
  {
   "cell_type": "code",
   "execution_count": 8,
   "metadata": {},
   "outputs": [
    {
     "name": "stdout",
     "output_type": "stream",
     "text": [
      "enter xyz 10 20\n"
     ]
    },
    {
     "data": {
      "text/plain": [
       "('xyz', '10', '20')"
      ]
     },
     "execution_count": 8,
     "metadata": {},
     "output_type": "execute_result"
    }
   ],
   "source": [
    "v1 = input('enter ').split()\n",
    "v1=tuple(v1)\n",
    "v1"
   ]
  },
  {
   "cell_type": "code",
   "execution_count": 9,
   "metadata": {},
   "outputs": [],
   "source": [
    "v = [('tom',19,80),\n",
    "('john',20,90), \n",
    "('jony',17,91),\n",
    "('jony',17,93),\n",
    "('json',21,85)]\n"
   ]
  },
  {
   "cell_type": "code",
   "execution_count": 10,
   "metadata": {},
   "outputs": [],
   "source": [
    "v.append(v1)"
   ]
  },
  {
   "cell_type": "code",
   "execution_count": 11,
   "metadata": {},
   "outputs": [],
   "source": [
    "v.sort()"
   ]
  },
  {
   "cell_type": "code",
   "execution_count": null,
   "metadata": {},
   "outputs": [],
   "source": []
  },
  {
   "cell_type": "code",
   "execution_count": null,
   "metadata": {},
   "outputs": [],
   "source": []
  }
 ],
 "metadata": {
  "kernelspec": {
   "display_name": "Python 3",
   "language": "python",
   "name": "python3"
  },
  "language_info": {
   "codemirror_mode": {
    "name": "ipython",
    "version": 3
   },
   "file_extension": ".py",
   "mimetype": "text/x-python",
   "name": "python",
   "nbconvert_exporter": "python",
   "pygments_lexer": "ipython3",
   "version": "3.6.7"
  }
 },
 "nbformat": 4,
 "nbformat_minor": 2
}
