{
 "cells": [
  {
   "cell_type": "code",
   "execution_count": null,
   "metadata": {},
   "outputs": [],
   "source": []
  },
  {
   "cell_type": "code",
   "execution_count": null,
   "metadata": {},
   "outputs": [],
   "source": []
  },
  {
   "cell_type": "markdown",
   "metadata": {},
   "source": [
    "LIST,SET,TUPLE  ------>  only to hold the indidual objects\n",
    "Dictionary ---->  key-value pairs \n",
    "\n",
    "How to Create Dictionary object ??\n",
    "\n",
    "d = {} \n",
    "\n",
    "d = dict() method/function\n",
    "\n",
    "How to add key-value pair in dictionary ??\n",
    "\n",
    "d[key] = value  # added to dictionary\n"
   ]
  },
  {
   "cell_type": "code",
   "execution_count": 1,
   "metadata": {},
   "outputs": [
    {
     "name": "stdout",
     "output_type": "stream",
     "text": [
      "{100: 'sudarshan', 200: 'amrit', 'rama': 'sita'}\n"
     ]
    }
   ],
   "source": [
    "d={}\n",
    "d[100]= 'sudarshan'\n",
    "d[200]='amrit'\n",
    "d['rama'] = 'sita'\n",
    "\n",
    "print(d)   # order is not maintain"
   ]
  },
  {
   "cell_type": "code",
   "execution_count": 2,
   "metadata": {},
   "outputs": [
    {
     "name": "stdout",
     "output_type": "stream",
     "text": [
      "{'a': 'apple', 'b': 'banana', 'c': 'cat'}\n"
     ]
    }
   ],
   "source": [
    "d ={'a':'apple','b':'banana','c':'cat'}\n",
    "print(d)"
   ]
  },
  {
   "cell_type": "code",
   "execution_count": 6,
   "metadata": {},
   "outputs": [
    {
     "name": "stdout",
     "output_type": "stream",
     "text": [
      "apple\n"
     ]
    }
   ],
   "source": [
    "#How to access element from the dictionary:\n",
    "\n",
    "d ={'a':'apple','b':'banana','c':'cat'}\n",
    "\n",
    "# print(d['a'])\n",
    "# print(d['z']) # Error\n",
    "\n",
    "# print(d.has_key[b])  # only for python2 not python3\n",
    "\n"
   ]
  },
  {
   "cell_type": "markdown",
   "metadata": {},
   "source": [
    "### WAP to enter name and % of marks in dictionary and display on the screen\n"
   ]
  },
  {
   "cell_type": "code",
   "execution_count": 18,
   "metadata": {},
   "outputs": [
    {
     "name": "stdout",
     "output_type": "stream",
     "text": [
      "enter number of student: 2\n",
      "enter student name: qw\n",
      " enter  %  of marks: 23\n",
      "enter student name: we\n",
      " enter  %  of marks: 23\n",
      "Name of student  | \t %Marks\n",
      "-----------------------------\n",
      "qw \t \t | \t 23.0\n",
      "-----------------------------\n",
      "we \t \t | \t 23.0\n"
     ]
    }
   ],
   "source": [
    "rec = {}\n",
    "n = int(input(\"enter number of student: \"))\n",
    "\n",
    "i =1\n",
    "while i<=n:\n",
    "    name = input(\"enter student name: \")\n",
    "    marks = float(input(\" enter  %  of marks: \"))\n",
    "    rec[name]=marks\n",
    "    i=i+1\n",
    "    \n",
    "print(\"Name of student\",' |',\"\\t\",\"%Marks\")\n",
    "for x in rec:\n",
    "    print('-----------------------------')\n",
    "    print(x,\"\\t\",\"\\t\",'|',\"\\t\",rec[x])"
   ]
  },
  {
   "cell_type": "markdown",
   "metadata": {},
   "source": [
    "How to update dictionaries :"
   ]
  },
  {
   "cell_type": "code",
   "execution_count": 22,
   "metadata": {
    "scrolled": true
   },
   "outputs": [
    {
     "name": "stdout",
     "output_type": "stream",
     "text": [
      "{100: 'important', 200: 'b', 300: 'c', 400: 'd'}\n"
     ]
    }
   ],
   "source": [
    "d = {100:'a',200:'b',300:'c',400:'d'}\n",
    "\n",
    "# if key is alredy avilable old value replace with new value\n",
    "\n",
    "d[100]= 'sudarshan'\n",
    "d[100]='important'  # new value get replace \n",
    "print(d)"
   ]
  },
  {
   "cell_type": "code",
   "execution_count": 26,
   "metadata": {},
   "outputs": [
    {
     "data": {
      "text/plain": [
       "['__class__',\n",
       " '__contains__',\n",
       " '__delattr__',\n",
       " '__delitem__',\n",
       " '__dir__',\n",
       " '__doc__',\n",
       " '__eq__',\n",
       " '__format__',\n",
       " '__ge__',\n",
       " '__getattribute__',\n",
       " '__getitem__',\n",
       " '__gt__',\n",
       " '__hash__',\n",
       " '__init__',\n",
       " '__init_subclass__',\n",
       " '__iter__',\n",
       " '__le__',\n",
       " '__len__',\n",
       " '__lt__',\n",
       " '__ne__',\n",
       " '__new__',\n",
       " '__reduce__',\n",
       " '__reduce_ex__',\n",
       " '__repr__',\n",
       " '__setattr__',\n",
       " '__setitem__',\n",
       " '__sizeof__',\n",
       " '__str__',\n",
       " '__subclasshook__',\n",
       " 'clear',\n",
       " 'copy',\n",
       " 'fromkeys',\n",
       " 'get',\n",
       " 'items',\n",
       " 'keys',\n",
       " 'pop',\n",
       " 'popitem',\n",
       " 'setdefault',\n",
       " 'update',\n",
       " 'values']"
      ]
     },
     "execution_count": 26,
     "metadata": {},
     "output_type": "execute_result"
    }
   ],
   "source": [
    "dir(dict)"
   ]
  },
  {
   "cell_type": "code",
   "execution_count": 39,
   "metadata": {},
   "outputs": [],
   "source": [
    "# how to delete dict:\n",
    "\n",
    "d = {100:'a',200:'b',300:'c',400:'d'}\n",
    "\n",
    "del d[100]  # value get delate from the dict \n",
    "\n",
    "# del d[500] # get ERROR \n",
    "\n",
    "# d.clear()  # total clear\n",
    "\n",
    "# d[111]='one'  # key get added in dictionary\n",
    "\n",
    "del d\n",
    "\n",
    "# d # dict not present delete dictionry with dictionary"
   ]
  },
  {
   "cell_type": "code",
   "execution_count": 40,
   "metadata": {},
   "outputs": [],
   "source": [
    "# del and clear()  # difference is \n",
    "\n",
    "# del delete all after we can not access possible \n",
    "\n",
    "# clear() we can access  only clear key and value not present but dicionary is present "
   ]
  },
  {
   "cell_type": "markdown",
   "metadata": {},
   "source": [
    "#### how to specified multiple value in for the sigle key"
   ]
  },
  {
   "cell_type": "code",
   "execution_count": 54,
   "metadata": {},
   "outputs": [
    {
     "data": {
      "text/plain": [
       "'ravi'"
      ]
     },
     "execution_count": 54,
     "metadata": {},
     "output_type": "execute_result"
    }
   ],
   "source": [
    "d = {100:'acs',200:'asb'}\n",
    "\n",
    "d.get(500) # if key is not present it will not give u error if present will return correspondig value\n",
    "\n",
    "d.get(500,'ravi')  # key not avilable default value return \n",
    "\n",
    "\n",
    "# pop(key)\n",
    "\n",
    "# print(d.pop(100))   # currespong value will display and remove\n"
   ]
  },
  {
   "cell_type": "code",
   "execution_count": 57,
   "metadata": {},
   "outputs": [
    {
     "name": "stdout",
     "output_type": "stream",
     "text": [
      "dict_keys([100, 200])\n",
      "100\n",
      "200\n"
     ]
    }
   ],
   "source": [
    "#keys\n",
    "\n",
    "d = {100:'aaa',200:'bbb'}\n",
    "\n",
    "print(d.keys())\n",
    "\n",
    "# for k in d.keys():\n",
    "#     print(k)\n",
    "    \n",
    "# for k in d:\n",
    "#     print(k)  return key\n",
    "    "
   ]
  },
  {
   "cell_type": "code",
   "execution_count": 12,
   "metadata": {},
   "outputs": [
    {
     "name": "stdout",
     "output_type": "stream",
     "text": [
      "dict_values(['aaa', 'bbb'])\n",
      "aaa\n",
      "bbb\n"
     ]
    }
   ],
   "source": [
    "#values\n",
    "\n",
    "d = {100:'aaa',200:'bbb'}\n",
    "\n",
    "print(d.values())\n",
    "\n",
    "for v in d.values():\n",
    "    print(v)"
   ]
  },
  {
   "cell_type": "code",
   "execution_count": 63,
   "metadata": {},
   "outputs": [
    {
     "name": "stdout",
     "output_type": "stream",
     "text": [
      "[(100, 'aaa'), (200, 'bbb')]\n",
      "100 ......... aaa\n",
      "200 ......... bbb\n"
     ]
    },
    {
     "data": {
      "text/plain": [
       "{100: 'aaa', 200: 'bbb', 'a': 20, 777: 'a', 2000: 'x'}"
      ]
     },
     "execution_count": 63,
     "metadata": {},
     "output_type": "execute_result"
    }
   ],
   "source": [
    "#Items()  it return the list internally\n",
    "\n",
    "d = {100:'aaa',200:'bbb'}\n",
    "\n",
    "li = list(d.items())\n",
    "print(li)      # list of tuple \n",
    "\n",
    "for k,v in d.items():\n",
    "    print(k,'.........',v)\n",
    "    \n",
    "# in update(x) we are allow pass only one argument\n",
    "\n",
    "d.update([('a',20)])\n",
    "\n",
    "# update list of tuple() #are valid\n",
    "\n",
    "d.update([(777,'a')])\n",
    "\n",
    "# list of set\n",
    "\n",
    "d.update([{'x',2000}])\n",
    "d"
   ]
  },
  {
   "cell_type": "markdown",
   "metadata": {},
   "source": [
    "##### # how many charecter get in string or chrecter occured :"
   ]
  },
  {
   "cell_type": "code",
   "execution_count": 82,
   "metadata": {},
   "outputs": [
    {
     "name": "stdout",
     "output_type": "stream",
     "text": [
      "enter some wordshree shree shree\n",
      "{'s': 3, 'h': 3, 'r': 3, 'e': 6, ' ': 2}\n",
      "s ocuured 3 timtes\n",
      "h ocuured 3 timtes\n",
      "r ocuured 3 timtes\n",
      "e ocuured 6 timtes\n",
      "  ocuured 2 timtes\n"
     ]
    }
   ],
   "source": [
    "# for count the charecter in string\n",
    "\n",
    "word = input(\"enter some word\")\n",
    "\n",
    "d = {}\n",
    "\n",
    "for x in word:\n",
    "    d[x] = d.get(x,0)+1\n",
    "print(d)\n",
    "for k,v in d.items():\n",
    "    print(\"{} ocuured {} timtes\".format(k,v))\n",
    "\n",
    "    \n"
   ]
  },
  {
   "cell_type": "code",
   "execution_count": 88,
   "metadata": {},
   "outputs": [
    {
     "name": "stdout",
     "output_type": "stream",
     "text": [
      "enter name aa bb aa\n",
      "aa ocuured 2 timtes\n",
      "bb ocuured 1 timtes\n"
     ]
    }
   ],
   "source": [
    "word = [ str(n) for n in input('enter name ').split(' ')]\n",
    "\n",
    "d = {}\n",
    "for x in word:\n",
    "    d[x] = d.get(x,0)+1\n",
    "    \n",
    "for k,v in d.items():\n",
    "    print(\"{} ocuured {} timtes\".format(k,v))\n",
    "    "
   ]
  },
  {
   "cell_type": "code",
   "execution_count": null,
   "metadata": {},
   "outputs": [],
   "source": []
  }
 ],
 "metadata": {
  "kernelspec": {
   "display_name": "Python 3",
   "language": "python",
   "name": "python3"
  },
  "language_info": {
   "codemirror_mode": {
    "name": "ipython",
    "version": 3
   },
   "file_extension": ".py",
   "mimetype": "text/x-python",
   "name": "python",
   "nbconvert_exporter": "python",
   "pygments_lexer": "ipython3",
   "version": "3.6.7"
  }
 },
 "nbformat": 4,
 "nbformat_minor": 2
}
